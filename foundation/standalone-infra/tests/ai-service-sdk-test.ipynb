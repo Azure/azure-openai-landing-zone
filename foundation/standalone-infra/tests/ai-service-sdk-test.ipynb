{
 "cells": [
  {
   "cell_type": "code",
   "execution_count": 1,
   "metadata": {},
   "outputs": [],
   "source": [
    "# Install the packages\n",
    "#%pip install azure-identity azure-ai-generative[faiss] azure-search-documents azure-ai-resources\n",
    "#%pip install langchain"
   ]
  },
  {
   "cell_type": "code",
   "execution_count": 2,
   "metadata": {},
   "outputs": [],
   "source": [
    "#%pip install azure-mgmt-machinelearningservices\n",
    "#%pip install azure-ai-ml"
   ]
  },
  {
   "cell_type": "code",
   "execution_count": 3,
   "metadata": {},
   "outputs": [],
   "source": [
    "#%pip install azure-ai-resources\n",
    "#%pip install azure-identity"
   ]
  },
  {
   "cell_type": "code",
   "execution_count": 9,
   "metadata": {},
   "outputs": [
    {
     "name": "stdout",
     "output_type": "stream",
     "text": [
      "Collecting promptflow\n",
      "  Downloading promptflow-1.3.0-py3-none-any.whl.metadata (16 kB)\n",
      "Collecting promptflow-tools\n",
      "  Downloading promptflow_tools-1.0.2-py3-none-any.whl.metadata (2.0 kB)\n",
      "Requirement already satisfied: psutil in c:\\users\\anildwa\\appdata\\local\\miniconda3\\envs\\aoai-landing-zone\\lib\\site-packages (from promptflow) (5.9.6)\n",
      "Requirement already satisfied: httpx>=0.25.1 in c:\\users\\anildwa\\appdata\\local\\miniconda3\\envs\\aoai-landing-zone\\lib\\site-packages (from promptflow) (0.26.0)\n",
      "Requirement already satisfied: openai in c:\\users\\anildwa\\appdata\\local\\miniconda3\\envs\\aoai-landing-zone\\lib\\site-packages (from promptflow) (1.6.1)\n",
      "Collecting flask<4.0.0,>=2.2.3 (from promptflow)\n",
      "  Using cached flask-3.0.0-py3-none-any.whl.metadata (3.6 kB)\n",
      "Requirement already satisfied: sqlalchemy<3.0.0,>=1.4.48 in c:\\users\\anildwa\\appdata\\local\\miniconda3\\envs\\aoai-landing-zone\\lib\\site-packages (from promptflow) (2.0.23)\n",
      "Collecting pandas<3.0.0,>=1.5.3 (from promptflow)\n",
      "  Using cached pandas-2.1.4-cp310-cp310-win_amd64.whl.metadata (18 kB)\n",
      "Collecting python-dotenv<2.0.0,>=1.0.0 (from promptflow)\n",
      "  Using cached python_dotenv-1.0.0-py3-none-any.whl (19 kB)\n",
      "Collecting keyring<25.0.0,>=24.2.0 (from promptflow)\n",
      "  Downloading keyring-24.3.0-py3-none-any.whl.metadata (20 kB)\n",
      "Requirement already satisfied: pydash<8.0.0,>=6.0.0 in c:\\users\\anildwa\\appdata\\local\\miniconda3\\envs\\aoai-landing-zone\\lib\\site-packages (from promptflow) (7.0.5)\n",
      "Requirement already satisfied: cryptography<42.0.0,>=41.0.3 in c:\\users\\anildwa\\appdata\\local\\miniconda3\\envs\\aoai-landing-zone\\lib\\site-packages (from promptflow) (41.0.7)\n",
      "Requirement already satisfied: colorama<0.5.0,>=0.4.6 in c:\\users\\anildwa\\appdata\\local\\miniconda3\\envs\\aoai-landing-zone\\lib\\site-packages (from promptflow) (0.4.6)\n",
      "Requirement already satisfied: tabulate<1.0.0,>=0.9.0 in c:\\users\\anildwa\\appdata\\local\\miniconda3\\envs\\aoai-landing-zone\\lib\\site-packages (from promptflow) (0.9.0)\n",
      "Collecting filelock<4.0.0,>=3.4.0 (from promptflow)\n",
      "  Using cached filelock-3.13.1-py3-none-any.whl.metadata (2.8 kB)\n",
      "Requirement already satisfied: marshmallow<4.0.0,>=3.5 in c:\\users\\anildwa\\appdata\\local\\miniconda3\\envs\\aoai-landing-zone\\lib\\site-packages (from promptflow) (3.20.1)\n",
      "Requirement already satisfied: pyyaml<7.0.0,>=5.1.0 in c:\\users\\anildwa\\appdata\\local\\miniconda3\\envs\\aoai-landing-zone\\lib\\site-packages (from promptflow) (6.0.1)\n",
      "Requirement already satisfied: gitpython<4.0.0,>=3.1.24 in c:\\users\\anildwa\\appdata\\local\\miniconda3\\envs\\aoai-landing-zone\\lib\\site-packages (from promptflow) (3.1.40)\n",
      "Collecting tiktoken>=0.4.0 (from promptflow)\n",
      "  Using cached tiktoken-0.5.2-cp310-cp310-win_amd64.whl.metadata (6.8 kB)\n",
      "Requirement already satisfied: strictyaml<2.0.0,>=1.5.0 in c:\\users\\anildwa\\appdata\\local\\miniconda3\\envs\\aoai-landing-zone\\lib\\site-packages (from promptflow) (1.7.3)\n",
      "Collecting waitress<3.0.0,>=2.1.2 (from promptflow)\n",
      "  Using cached waitress-2.1.2-py3-none-any.whl (57 kB)\n",
      "Requirement already satisfied: opencensus-ext-azure<2.0.0 in c:\\users\\anildwa\\appdata\\local\\miniconda3\\envs\\aoai-landing-zone\\lib\\site-packages (from promptflow) (1.1.12)\n",
      "Collecting ruamel.yaml<1.0.0,>=0.17.10 (from promptflow)\n",
      "  Downloading ruamel.yaml-0.18.5-py3-none-any.whl.metadata (23 kB)\n",
      "Collecting pyarrow<15.0.0,>=14.0.1 (from promptflow)\n",
      "  Downloading pyarrow-14.0.2-cp310-cp310-win_amd64.whl.metadata (3.1 kB)\n",
      "Collecting pillow<11.0.0,>=10.1.0 (from promptflow)\n",
      "  Using cached Pillow-10.1.0-cp310-cp310-win_amd64.whl.metadata (9.6 kB)\n",
      "Collecting filetype>=1.2.0 (from promptflow)\n",
      "  Downloading filetype-1.2.0-py2.py3-none-any.whl (19 kB)\n",
      "Requirement already satisfied: jsonschema<5.0.0,>=4.0.0 in c:\\users\\anildwa\\appdata\\local\\miniconda3\\envs\\aoai-landing-zone\\lib\\site-packages (from promptflow) (4.20.0)\n",
      "Collecting google-search-results==2.4.1 (from promptflow-tools)\n",
      "  Downloading google_search_results-2.4.1.tar.gz (11 kB)\n",
      "  Preparing metadata (setup.py): started\n",
      "  Preparing metadata (setup.py): finished with status 'done'\n",
      "Requirement already satisfied: requests in c:\\users\\anildwa\\appdata\\local\\miniconda3\\envs\\aoai-landing-zone\\lib\\site-packages (from google-search-results==2.4.1->promptflow-tools) (2.31.0)\n",
      "Requirement already satisfied: cffi>=1.12 in c:\\users\\anildwa\\appdata\\local\\miniconda3\\envs\\aoai-landing-zone\\lib\\site-packages (from cryptography<42.0.0,>=41.0.3->promptflow) (1.16.0)\n",
      "Collecting Werkzeug>=3.0.0 (from flask<4.0.0,>=2.2.3->promptflow)\n",
      "  Using cached werkzeug-3.0.1-py3-none-any.whl.metadata (4.1 kB)\n",
      "Collecting Jinja2>=3.1.2 (from flask<4.0.0,>=2.2.3->promptflow)\n",
      "  Using cached Jinja2-3.1.2-py3-none-any.whl (133 kB)\n",
      "Collecting itsdangerous>=2.1.2 (from flask<4.0.0,>=2.2.3->promptflow)\n",
      "  Using cached itsdangerous-2.1.2-py3-none-any.whl (15 kB)\n",
      "Requirement already satisfied: click>=8.1.3 in c:\\users\\anildwa\\appdata\\local\\miniconda3\\envs\\aoai-landing-zone\\lib\\site-packages (from flask<4.0.0,>=2.2.3->promptflow) (8.1.7)\n",
      "Collecting blinker>=1.6.2 (from flask<4.0.0,>=2.2.3->promptflow)\n",
      "  Using cached blinker-1.7.0-py3-none-any.whl.metadata (1.9 kB)\n",
      "Requirement already satisfied: gitdb<5,>=4.0.1 in c:\\users\\anildwa\\appdata\\local\\miniconda3\\envs\\aoai-landing-zone\\lib\\site-packages (from gitpython<4.0.0,>=3.1.24->promptflow) (4.0.11)\n",
      "Requirement already satisfied: anyio in c:\\users\\anildwa\\appdata\\local\\miniconda3\\envs\\aoai-landing-zone\\lib\\site-packages (from httpx>=0.25.1->promptflow) (4.1.0)\n",
      "Requirement already satisfied: certifi in c:\\users\\anildwa\\appdata\\local\\miniconda3\\envs\\aoai-landing-zone\\lib\\site-packages (from httpx>=0.25.1->promptflow) (2023.11.17)\n",
      "Requirement already satisfied: httpcore==1.* in c:\\users\\anildwa\\appdata\\local\\miniconda3\\envs\\aoai-landing-zone\\lib\\site-packages (from httpx>=0.25.1->promptflow) (1.0.2)\n",
      "Requirement already satisfied: idna in c:\\users\\anildwa\\appdata\\local\\miniconda3\\envs\\aoai-landing-zone\\lib\\site-packages (from httpx>=0.25.1->promptflow) (3.6)\n",
      "Requirement already satisfied: sniffio in c:\\users\\anildwa\\appdata\\local\\miniconda3\\envs\\aoai-landing-zone\\lib\\site-packages (from httpx>=0.25.1->promptflow) (1.3.0)\n",
      "Requirement already satisfied: h11<0.15,>=0.13 in c:\\users\\anildwa\\appdata\\local\\miniconda3\\envs\\aoai-landing-zone\\lib\\site-packages (from httpcore==1.*->httpx>=0.25.1->promptflow) (0.14.0)\n",
      "Requirement already satisfied: attrs>=22.2.0 in c:\\users\\anildwa\\appdata\\local\\miniconda3\\envs\\aoai-landing-zone\\lib\\site-packages (from jsonschema<5.0.0,>=4.0.0->promptflow) (23.1.0)\n",
      "Requirement already satisfied: jsonschema-specifications>=2023.03.6 in c:\\users\\anildwa\\appdata\\local\\miniconda3\\envs\\aoai-landing-zone\\lib\\site-packages (from jsonschema<5.0.0,>=4.0.0->promptflow) (2023.11.2)\n",
      "Requirement already satisfied: referencing>=0.28.4 in c:\\users\\anildwa\\appdata\\local\\miniconda3\\envs\\aoai-landing-zone\\lib\\site-packages (from jsonschema<5.0.0,>=4.0.0->promptflow) (0.32.0)\n",
      "Requirement already satisfied: rpds-py>=0.7.1 in c:\\users\\anildwa\\appdata\\local\\miniconda3\\envs\\aoai-landing-zone\\lib\\site-packages (from jsonschema<5.0.0,>=4.0.0->promptflow) (0.13.2)\n",
      "Collecting jaraco.classes (from keyring<25.0.0,>=24.2.0->promptflow)\n",
      "  Downloading jaraco.classes-3.3.0-py3-none-any.whl.metadata (2.9 kB)\n",
      "Requirement already satisfied: importlib-metadata>=4.11.4 in c:\\users\\anildwa\\appdata\\local\\miniconda3\\envs\\aoai-landing-zone\\lib\\site-packages (from keyring<25.0.0,>=24.2.0->promptflow) (7.0.0)\n",
      "Collecting pywin32-ctypes>=0.2.0 (from keyring<25.0.0,>=24.2.0->promptflow)\n",
      "  Downloading pywin32_ctypes-0.2.2-py3-none-any.whl.metadata (3.8 kB)\n",
      "Requirement already satisfied: packaging>=17.0 in c:\\users\\anildwa\\appdata\\local\\miniconda3\\envs\\aoai-landing-zone\\lib\\site-packages (from marshmallow<4.0.0,>=3.5->promptflow) (23.2)\n",
      "Requirement already satisfied: distro<2,>=1.7.0 in c:\\users\\anildwa\\appdata\\local\\miniconda3\\envs\\aoai-landing-zone\\lib\\site-packages (from openai->promptflow) (1.9.0)\n",
      "Requirement already satisfied: pydantic<3,>=1.9.0 in c:\\users\\anildwa\\appdata\\local\\miniconda3\\envs\\aoai-landing-zone\\lib\\site-packages (from openai->promptflow) (2.5.2)\n",
      "Requirement already satisfied: tqdm>4 in c:\\users\\anildwa\\appdata\\local\\miniconda3\\envs\\aoai-landing-zone\\lib\\site-packages (from openai->promptflow) (4.66.1)\n",
      "Requirement already satisfied: typing-extensions<5,>=4.7 in c:\\users\\anildwa\\appdata\\local\\miniconda3\\envs\\aoai-landing-zone\\lib\\site-packages (from openai->promptflow) (4.9.0)\n",
      "Requirement already satisfied: azure-core<2.0.0,>=1.12.0 in c:\\users\\anildwa\\appdata\\local\\miniconda3\\envs\\aoai-landing-zone\\lib\\site-packages (from opencensus-ext-azure<2.0.0->promptflow) (1.29.6)\n",
      "Requirement already satisfied: azure-identity<2.0.0,>=1.5.0 in c:\\users\\anildwa\\appdata\\local\\miniconda3\\envs\\aoai-landing-zone\\lib\\site-packages (from opencensus-ext-azure<2.0.0->promptflow) (1.15.0)\n",
      "Requirement already satisfied: opencensus<1.0.0,>=0.11.3 in c:\\users\\anildwa\\appdata\\local\\miniconda3\\envs\\aoai-landing-zone\\lib\\site-packages (from opencensus-ext-azure<2.0.0->promptflow) (0.11.3)\n",
      "Requirement already satisfied: numpy<2,>=1.22.4 in c:\\users\\anildwa\\appdata\\local\\miniconda3\\envs\\aoai-landing-zone\\lib\\site-packages (from pandas<3.0.0,>=1.5.3->promptflow) (1.26.2)\n",
      "Requirement already satisfied: python-dateutil>=2.8.2 in c:\\users\\anildwa\\appdata\\local\\miniconda3\\envs\\aoai-landing-zone\\lib\\site-packages (from pandas<3.0.0,>=1.5.3->promptflow) (2.8.2)\n",
      "Requirement already satisfied: pytz>=2020.1 in c:\\users\\anildwa\\appdata\\local\\miniconda3\\envs\\aoai-landing-zone\\lib\\site-packages (from pandas<3.0.0,>=1.5.3->promptflow) (2023.3.post1)\n",
      "Collecting tzdata>=2022.1 (from pandas<3.0.0,>=1.5.3->promptflow)\n",
      "  Using cached tzdata-2023.3-py2.py3-none-any.whl (341 kB)\n",
      "Collecting ruamel.yaml.clib>=0.2.7 (from ruamel.yaml<1.0.0,>=0.17.10->promptflow)\n",
      "  Downloading ruamel.yaml.clib-0.2.8-cp310-cp310-win_amd64.whl.metadata (2.3 kB)\n",
      "Requirement already satisfied: greenlet!=0.4.17 in c:\\users\\anildwa\\appdata\\local\\miniconda3\\envs\\aoai-landing-zone\\lib\\site-packages (from sqlalchemy<3.0.0,>=1.4.48->promptflow) (3.0.2)\n",
      "Collecting regex>=2022.1.18 (from tiktoken>=0.4.0->promptflow)\n",
      "  Downloading regex-2023.12.25-cp310-cp310-win_amd64.whl.metadata (41 kB)\n",
      "     ---------------------------------------- 0.0/42.0 kB ? eta -:--:--\n",
      "     ---------------------------------------- 42.0/42.0 kB 1.0 MB/s eta 0:00:00\n",
      "Requirement already satisfied: exceptiongroup>=1.0.2 in c:\\users\\anildwa\\appdata\\local\\miniconda3\\envs\\aoai-landing-zone\\lib\\site-packages (from anyio->httpx>=0.25.1->promptflow) (1.2.0)\n",
      "Requirement already satisfied: six>=1.11.0 in c:\\users\\anildwa\\appdata\\local\\miniconda3\\envs\\aoai-landing-zone\\lib\\site-packages (from azure-core<2.0.0,>=1.12.0->opencensus-ext-azure<2.0.0->promptflow) (1.16.0)\n",
      "Requirement already satisfied: msal<2.0.0,>=1.24.0 in c:\\users\\anildwa\\appdata\\local\\miniconda3\\envs\\aoai-landing-zone\\lib\\site-packages (from azure-identity<2.0.0,>=1.5.0->opencensus-ext-azure<2.0.0->promptflow) (1.26.0)\n",
      "Requirement already satisfied: msal-extensions<2.0.0,>=0.3.0 in c:\\users\\anildwa\\appdata\\local\\miniconda3\\envs\\aoai-landing-zone\\lib\\site-packages (from azure-identity<2.0.0,>=1.5.0->opencensus-ext-azure<2.0.0->promptflow) (1.0.0)\n",
      "Requirement already satisfied: pycparser in c:\\users\\anildwa\\appdata\\local\\miniconda3\\envs\\aoai-landing-zone\\lib\\site-packages (from cffi>=1.12->cryptography<42.0.0,>=41.0.3->promptflow) (2.21)\n",
      "Requirement already satisfied: smmap<6,>=3.0.1 in c:\\users\\anildwa\\appdata\\local\\miniconda3\\envs\\aoai-landing-zone\\lib\\site-packages (from gitdb<5,>=4.0.1->gitpython<4.0.0,>=3.1.24->promptflow) (5.0.1)\n",
      "Requirement already satisfied: zipp>=0.5 in c:\\users\\anildwa\\appdata\\local\\miniconda3\\envs\\aoai-landing-zone\\lib\\site-packages (from importlib-metadata>=4.11.4->keyring<25.0.0,>=24.2.0->promptflow) (3.17.0)\n",
      "Requirement already satisfied: MarkupSafe>=2.0 in c:\\users\\anildwa\\appdata\\roaming\\python\\python310\\site-packages (from Jinja2>=3.1.2->flask<4.0.0,>=2.2.3->promptflow) (2.1.3)\n",
      "Requirement already satisfied: opencensus-context>=0.1.3 in c:\\users\\anildwa\\appdata\\local\\miniconda3\\envs\\aoai-landing-zone\\lib\\site-packages (from opencensus<1.0.0,>=0.11.3->opencensus-ext-azure<2.0.0->promptflow) (0.1.3)\n",
      "Requirement already satisfied: google-api-core<3.0.0,>=1.0.0 in c:\\users\\anildwa\\appdata\\local\\miniconda3\\envs\\aoai-landing-zone\\lib\\site-packages (from opencensus<1.0.0,>=0.11.3->opencensus-ext-azure<2.0.0->promptflow) (2.15.0)\n",
      "Requirement already satisfied: annotated-types>=0.4.0 in c:\\users\\anildwa\\appdata\\local\\miniconda3\\envs\\aoai-landing-zone\\lib\\site-packages (from pydantic<3,>=1.9.0->openai->promptflow) (0.6.0)\n",
      "Requirement already satisfied: pydantic-core==2.14.5 in c:\\users\\anildwa\\appdata\\local\\miniconda3\\envs\\aoai-landing-zone\\lib\\site-packages (from pydantic<3,>=1.9.0->openai->promptflow) (2.14.5)\n",
      "Requirement already satisfied: charset-normalizer<4,>=2 in c:\\users\\anildwa\\appdata\\local\\miniconda3\\envs\\aoai-landing-zone\\lib\\site-packages (from requests->google-search-results==2.4.1->promptflow-tools) (3.3.2)\n",
      "Requirement already satisfied: urllib3<3,>=1.21.1 in c:\\users\\anildwa\\appdata\\local\\miniconda3\\envs\\aoai-landing-zone\\lib\\site-packages (from requests->google-search-results==2.4.1->promptflow-tools) (1.26.18)\n",
      "Collecting more-itertools (from jaraco.classes->keyring<25.0.0,>=24.2.0->promptflow)\n",
      "  Using cached more_itertools-10.1.0-py3-none-any.whl.metadata (33 kB)\n",
      "Requirement already satisfied: googleapis-common-protos<2.0.dev0,>=1.56.2 in c:\\users\\anildwa\\appdata\\local\\miniconda3\\envs\\aoai-landing-zone\\lib\\site-packages (from google-api-core<3.0.0,>=1.0.0->opencensus<1.0.0,>=0.11.3->opencensus-ext-azure<2.0.0->promptflow) (1.62.0)\n",
      "Requirement already satisfied: protobuf!=3.20.0,!=3.20.1,!=4.21.0,!=4.21.1,!=4.21.2,!=4.21.3,!=4.21.4,!=4.21.5,<5.0.0.dev0,>=3.19.5 in c:\\users\\anildwa\\appdata\\local\\miniconda3\\envs\\aoai-landing-zone\\lib\\site-packages (from google-api-core<3.0.0,>=1.0.0->opencensus<1.0.0,>=0.11.3->opencensus-ext-azure<2.0.0->promptflow) (4.25.1)\n",
      "Requirement already satisfied: google-auth<3.0.dev0,>=2.14.1 in c:\\users\\anildwa\\appdata\\roaming\\python\\python310\\site-packages (from google-api-core<3.0.0,>=1.0.0->opencensus<1.0.0,>=0.11.3->opencensus-ext-azure<2.0.0->promptflow) (2.23.0)\n",
      "Requirement already satisfied: PyJWT<3,>=1.0.0 in c:\\users\\anildwa\\appdata\\local\\miniconda3\\envs\\aoai-landing-zone\\lib\\site-packages (from PyJWT[crypto]<3,>=1.0.0->msal<2.0.0,>=1.24.0->azure-identity<2.0.0,>=1.5.0->opencensus-ext-azure<2.0.0->promptflow) (2.8.0)\n",
      "Requirement already satisfied: portalocker<3,>=1.6 in c:\\users\\anildwa\\appdata\\local\\miniconda3\\envs\\aoai-landing-zone\\lib\\site-packages (from msal-extensions<2.0.0,>=0.3.0->azure-identity<2.0.0,>=1.5.0->opencensus-ext-azure<2.0.0->promptflow) (2.8.2)\n",
      "Requirement already satisfied: cachetools<6.0,>=2.0.0 in c:\\users\\anildwa\\appdata\\roaming\\python\\python310\\site-packages (from google-auth<3.0.dev0,>=2.14.1->google-api-core<3.0.0,>=1.0.0->opencensus<1.0.0,>=0.11.3->opencensus-ext-azure<2.0.0->promptflow) (5.3.1)\n",
      "Requirement already satisfied: pyasn1-modules>=0.2.1 in c:\\users\\anildwa\\appdata\\roaming\\python\\python310\\site-packages (from google-auth<3.0.dev0,>=2.14.1->google-api-core<3.0.0,>=1.0.0->opencensus<1.0.0,>=0.11.3->opencensus-ext-azure<2.0.0->promptflow) (0.3.0)\n",
      "Requirement already satisfied: rsa<5,>=3.1.4 in c:\\users\\anildwa\\appdata\\roaming\\python\\python310\\site-packages (from google-auth<3.0.dev0,>=2.14.1->google-api-core<3.0.0,>=1.0.0->opencensus<1.0.0,>=0.11.3->opencensus-ext-azure<2.0.0->promptflow) (4.9)\n",
      "Requirement already satisfied: pywin32>=226 in c:\\users\\anildwa\\appdata\\local\\miniconda3\\envs\\aoai-landing-zone\\lib\\site-packages (from portalocker<3,>=1.6->msal-extensions<2.0.0,>=0.3.0->azure-identity<2.0.0,>=1.5.0->opencensus-ext-azure<2.0.0->promptflow) (306)\n",
      "Requirement already satisfied: pyasn1<0.6.0,>=0.4.6 in c:\\users\\anildwa\\appdata\\local\\miniconda3\\envs\\aoai-landing-zone\\lib\\site-packages (from pyasn1-modules>=0.2.1->google-auth<3.0.dev0,>=2.14.1->google-api-core<3.0.0,>=1.0.0->opencensus<1.0.0,>=0.11.3->opencensus-ext-azure<2.0.0->promptflow) (0.5.1)\n",
      "Downloading promptflow-1.3.0-py3-none-any.whl (1.5 MB)\n",
      "   ---------------------------------------- 0.0/1.5 MB ? eta -:--:--\n",
      "   ------ --------------------------------- 0.2/1.5 MB 14.1 MB/s eta 0:00:01\n",
      "   ----------------------- ---------------- 0.8/1.5 MB 10.6 MB/s eta 0:00:01\n",
      "   ----------------------------- ---------- 1.1/1.5 MB 11.3 MB/s eta 0:00:01\n",
      "   ------------------------------------- -- 1.4/1.5 MB 8.7 MB/s eta 0:00:01\n",
      "   ---------------------------------------- 1.5/1.5 MB 7.7 MB/s eta 0:00:00\n",
      "Downloading promptflow_tools-1.0.2-py3-none-any.whl (39 kB)\n",
      "Using cached filelock-3.13.1-py3-none-any.whl (11 kB)\n",
      "Using cached flask-3.0.0-py3-none-any.whl (99 kB)\n",
      "Downloading keyring-24.3.0-py3-none-any.whl (38 kB)\n",
      "Using cached pandas-2.1.4-cp310-cp310-win_amd64.whl (10.7 MB)\n",
      "Using cached Pillow-10.1.0-cp310-cp310-win_amd64.whl (2.6 MB)\n",
      "Downloading pyarrow-14.0.2-cp310-cp310-win_amd64.whl (24.6 MB)\n",
      "   ---------------------------------------- 0.0/24.6 MB ? eta -:--:--\n",
      "   - -------------------------------------- 0.7/24.6 MB 21.5 MB/s eta 0:00:02\n",
      "   - -------------------------------------- 1.0/24.6 MB 12.7 MB/s eta 0:00:02\n",
      "   -- ------------------------------------- 1.5/24.6 MB 9.3 MB/s eta 0:00:03\n",
      "   --- ------------------------------------ 2.1/24.6 MB 10.2 MB/s eta 0:00:03\n",
      "   ---- ----------------------------------- 2.6/24.6 MB 11.0 MB/s eta 0:00:03\n",
      "   ----- ---------------------------------- 3.2/24.6 MB 10.8 MB/s eta 0:00:02\n",
      "   ------ --------------------------------- 4.0/24.6 MB 11.2 MB/s eta 0:00:02\n",
      "   ------ --------------------------------- 4.2/24.6 MB 10.4 MB/s eta 0:00:02\n",
      "   ------- -------------------------------- 4.6/24.6 MB 10.4 MB/s eta 0:00:02\n",
      "   ------- -------------------------------- 4.9/24.6 MB 10.0 MB/s eta 0:00:02\n",
      "   -------- ------------------------------- 5.2/24.6 MB 10.1 MB/s eta 0:00:02\n",
      "   --------- ------------------------------ 5.7/24.6 MB 10.1 MB/s eta 0:00:02\n",
      "   --------- ------------------------------ 6.1/24.6 MB 10.2 MB/s eta 0:00:02\n",
      "   ---------- ----------------------------- 6.5/24.6 MB 10.1 MB/s eta 0:00:02\n",
      "   ---------- ----------------------------- 6.7/24.6 MB 9.9 MB/s eta 0:00:02\n",
      "   ----------- ---------------------------- 7.2/24.6 MB 9.8 MB/s eta 0:00:02\n",
      "   ------------ --------------------------- 7.5/24.6 MB 9.6 MB/s eta 0:00:02\n",
      "   ------------ --------------------------- 8.0/24.6 MB 9.6 MB/s eta 0:00:02\n",
      "   ------------- -------------------------- 8.6/24.6 MB 9.8 MB/s eta 0:00:02\n",
      "   -------------- ------------------------- 9.1/24.6 MB 10.1 MB/s eta 0:00:02\n",
      "   --------------- ------------------------ 9.6/24.6 MB 10.0 MB/s eta 0:00:02\n",
      "   ---------------- ----------------------- 10.0/24.6 MB 9.8 MB/s eta 0:00:02\n",
      "   ----------------- ---------------------- 10.6/24.6 MB 9.8 MB/s eta 0:00:02\n",
      "   ------------------ --------------------- 11.1/24.6 MB 9.9 MB/s eta 0:00:02\n",
      "   ------------------ --------------------- 11.7/24.6 MB 9.8 MB/s eta 0:00:02\n",
      "   ------------------- -------------------- 12.2/24.6 MB 10.1 MB/s eta 0:00:02\n",
      "   -------------------- ------------------- 12.7/24.6 MB 10.1 MB/s eta 0:00:02\n",
      "   --------------------- ------------------ 13.1/24.6 MB 9.9 MB/s eta 0:00:02\n",
      "   ---------------------- ----------------- 13.7/24.6 MB 9.8 MB/s eta 0:00:02\n",
      "   ---------------------- ----------------- 14.1/24.6 MB 9.8 MB/s eta 0:00:02\n",
      "   ------------------------ --------------- 14.8/24.6 MB 10.1 MB/s eta 0:00:01\n",
      "   ------------------------ --------------- 15.3/24.6 MB 10.6 MB/s eta 0:00:01\n",
      "   ------------------------- -------------- 15.6/24.6 MB 10.2 MB/s eta 0:00:01\n",
      "   -------------------------- ------------- 16.4/24.6 MB 10.4 MB/s eta 0:00:01\n",
      "   --------------------------- ------------ 17.0/24.6 MB 10.7 MB/s eta 0:00:01\n",
      "   ---------------------------- ----------- 17.5/24.6 MB 10.7 MB/s eta 0:00:01\n",
      "   ----------------------------- ---------- 17.9/24.6 MB 10.7 MB/s eta 0:00:01\n",
      "   ----------------------------- ---------- 18.4/24.6 MB 10.7 MB/s eta 0:00:01\n",
      "   ------------------------------ --------- 18.9/24.6 MB 10.6 MB/s eta 0:00:01\n",
      "   ------------------------------- -------- 19.4/24.6 MB 10.4 MB/s eta 0:00:01\n",
      "   -------------------------------- ------- 19.8/24.6 MB 10.4 MB/s eta 0:00:01\n",
      "   -------------------------------- ------- 20.2/24.6 MB 10.7 MB/s eta 0:00:01\n",
      "   --------------------------------- ------ 20.8/24.6 MB 10.6 MB/s eta 0:00:01\n",
      "   ---------------------------------- ----- 21.1/24.6 MB 10.2 MB/s eta 0:00:01\n",
      "   ----------------------------------- ---- 21.6/24.6 MB 10.4 MB/s eta 0:00:01\n",
      "   ----------------------------------- ---- 21.9/24.6 MB 10.2 MB/s eta 0:00:01\n",
      "   ------------------------------------ --- 22.3/24.6 MB 9.9 MB/s eta 0:00:01\n",
      "   ------------------------------------- -- 22.8/24.6 MB 9.8 MB/s eta 0:00:01\n",
      "   -------------------------------------- - 23.4/24.6 MB 10.1 MB/s eta 0:00:01\n",
      "   -------------------------------------- - 24.0/24.6 MB 9.9 MB/s eta 0:00:01\n",
      "   ---------------------------------------  24.5/24.6 MB 9.9 MB/s eta 0:00:01\n",
      "   ---------------------------------------  24.6/24.6 MB 10.1 MB/s eta 0:00:01\n",
      "   ---------------------------------------- 24.6/24.6 MB 9.4 MB/s eta 0:00:00\n",
      "Downloading ruamel.yaml-0.18.5-py3-none-any.whl (116 kB)\n",
      "   ---------------------------------------- 0.0/116.4 kB ? eta -:--:--\n",
      "   ---------------------------------------- 116.4/116.4 kB 3.4 MB/s eta 0:00:00\n",
      "Using cached tiktoken-0.5.2-cp310-cp310-win_amd64.whl (786 kB)\n",
      "Using cached blinker-1.7.0-py3-none-any.whl (13 kB)\n",
      "Downloading pywin32_ctypes-0.2.2-py3-none-any.whl (30 kB)\n",
      "Downloading regex-2023.12.25-cp310-cp310-win_amd64.whl (269 kB)\n",
      "   ---------------------------------------- 0.0/269.5 kB ? eta -:--:--\n",
      "   ---------------------------------------- 269.5/269.5 kB 8.4 MB/s eta 0:00:00\n",
      "Downloading ruamel.yaml.clib-0.2.8-cp310-cp310-win_amd64.whl (117 kB)\n",
      "   ---------------------------------------- 0.0/117.8 kB ? eta -:--:--\n",
      "   ---------------------------------------- 117.8/117.8 kB 2.3 MB/s eta 0:00:00\n",
      "Using cached werkzeug-3.0.1-py3-none-any.whl (226 kB)\n",
      "Downloading jaraco.classes-3.3.0-py3-none-any.whl (5.9 kB)\n",
      "Using cached more_itertools-10.1.0-py3-none-any.whl (55 kB)\n",
      "Building wheels for collected packages: google-search-results\n",
      "  Building wheel for google-search-results (setup.py): started\n",
      "  Building wheel for google-search-results (setup.py): finished with status 'done'\n",
      "  Created wheel for google-search-results: filename=google_search_results-2.4.1-py3-none-any.whl size=25792 sha256=c3b48ed91ea94d64114917f7dbfcae917a588044ed7c19c82f732721e4114f4b\n",
      "  Stored in directory: c:\\users\\anildwa\\appdata\\local\\pip\\cache\\wheels\\3f\\f9\\cf\\5e4c3bbb6a77ae7f574bf5cfe7d56c6b801e50aada40df13f1\n",
      "Successfully built google-search-results\n",
      "Installing collected packages: filetype, Werkzeug, waitress, tzdata, ruamel.yaml.clib, regex, pywin32-ctypes, python-dotenv, pyarrow, pillow, more-itertools, Jinja2, itsdangerous, filelock, blinker, tiktoken, ruamel.yaml, pandas, jaraco.classes, google-search-results, flask, keyring, promptflow, promptflow-tools\n",
      "Successfully installed Jinja2-3.1.2 Werkzeug-3.0.1 blinker-1.7.0 filelock-3.13.1 filetype-1.2.0 flask-3.0.0 google-search-results-2.4.1 itsdangerous-2.1.2 jaraco.classes-3.3.0 keyring-24.3.0 more-itertools-10.1.0 pandas-2.1.4 pillow-10.1.0 promptflow-1.3.0 promptflow-tools-1.0.2 pyarrow-14.0.2 python-dotenv-1.0.0 pywin32-ctypes-0.2.2 regex-2023.12.25 ruamel.yaml-0.18.5 ruamel.yaml.clib-0.2.8 tiktoken-0.5.2 tzdata-2023.3 waitress-2.1.2\n",
      "Note: you may need to restart the kernel to use updated packages.\n"
     ]
    },
    {
     "name": "stderr",
     "output_type": "stream",
     "text": [
      "ERROR: pip's dependency resolver does not currently take into account all the packages that are installed. This behaviour is the source of the following dependency conflicts.\n",
      "tensorboard 2.13.0 requires markdown>=2.6.8, which is not installed.\n",
      "tensorboard 2.13.0 requires tensorboard-data-server<0.8.0,>=0.7.0, which is not installed.\n",
      "tensorflow-intel 2.13.0 requires flatbuffers>=23.1.21, which is not installed.\n",
      "tensorflow-intel 2.13.0 requires libclang>=13.0.0, which is not installed.\n",
      "tensorflow-intel 2.13.0 requires tensorflow-estimator<2.14,>=2.13.0, which is not installed.\n",
      "tensorflow-intel 2.13.0 requires tensorflow-io-gcs-filesystem>=0.23.1; platform_machine != \"arm64\" or platform_system != \"Darwin\", which is not installed.\n",
      "tensorflow-intel 2.13.0 requires termcolor>=1.1.0, which is not installed.\n",
      "tensorflow-intel 2.13.0 requires wrapt>=1.11.0, which is not installed.\n",
      "tensorflow-intel 2.13.0 requires numpy<=1.24.3,>=1.22, but you have numpy 1.26.2 which is incompatible.\n",
      "tensorflow-intel 2.13.0 requires typing-extensions<4.6.0,>=3.6.6, but you have typing-extensions 4.9.0 which is incompatible.\n"
     ]
    }
   ],
   "source": [
    "#%pip install promptflow promptflow-tools"
   ]
  },
  {
   "cell_type": "code",
   "execution_count": 2,
   "metadata": {},
   "outputs": [],
   "source": [
    "subscription_id: str = \"f1a8fafd-a8a3-46d8-bb5e-01deb63d275d\"\n",
    "resource_group_name: str = \"aml-rg\"\n",
    "workspace: str = \"aml-testws\""
   ]
  },
  {
   "cell_type": "code",
   "execution_count": 3,
   "metadata": {},
   "outputs": [
    {
     "name": "stderr",
     "output_type": "stream",
     "text": [
      "Class AIClient: This is an experimental class, and may change at any time. Please see https://aka.ms/azuremlexperimental for more information.\n"
     ]
    }
   ],
   "source": [
    "from azure.ai.resources.client import AIClient\n",
    "from azure.identity import DefaultAzureCredential\n",
    "\n",
    "subscription_id: str = \"f1a8fafd-a8a3-46d8-bb5e-01deb63d275d\"\n",
    "ai_resource_name=\"azure-ai-resource-notebook\"\n",
    "\n",
    "ai_client = AIClient(credential=DefaultAzureCredential(), subscription_id=subscription_id,\n",
    "                     resource_group_name='test-rg2-notebook', ai_resource_name=ai_resource_name)"
   ]
  },
  {
   "cell_type": "code",
   "execution_count": 4,
   "metadata": {},
   "outputs": [
    {
     "name": "stderr",
     "output_type": "stream",
     "text": [
      "Class WorkspaceHubConfig: This is an experimental class, and may change at any time. Please see https://aka.ms/azuremlexperimental for more information.\n"
     ]
    },
    {
     "name": "stderr",
     "output_type": "stream",
     "text": [
      "Class WorkspaceHub: This is an experimental class, and may change at any time. Please see https://aka.ms/azuremlexperimental for more information.\n",
      "Method workspace_hubs: This is an experimental method, and may change at any time. Please see https://aka.ms/azuremlexperimental for more information.\n",
      "The deployment request azure-ai-resource-notebook-459059 was accepted. ARM deployment URI for reference: \n",
      "https://portal.azure.com//#blade/HubsExtension/DeploymentDetailsBlade/overview/id/%2Fsubscriptions%2Ff1a8fafd-a8a3-46d8-bb5e-01deb63d275d%2FresourceGroups%2Ftest-rg2-notebook%2Fproviders%2FMicrosoft.Resources%2Fdeployments%2Fazure-ai-resource-notebook-459059\n",
      "Creating Storage Account: (azureairstorageed2b85cfc  ) ....  Done (27s)\n",
      "Creating Log Analytics Workspace: (azureairlogalytieffad86e  )  Done (16s)\n",
      "Creating AzureML Workspace: (azure-ai-resource-notebook  ) ..  Done (19s)\n",
      "Creating Application Insights: (azureairinsights273eaa4f  )  Done (18s)\n",
      "Creating Container Registry: (azureaircontaine6cca4bcb  )  Done (12s)\n",
      "Creating Key Vault: (azureairkeyvaulta053a879  )  Done (27s)\n",
      "Creating endpoints: (Azure.ContentSafety  ) ........  Done (49s)\n",
      "Creating endpoints: (Azure.Speech  )  Done (51s)\n",
      "Creating endpoints: (Azure.OpenAI  )  Done (31s)\n",
      "Total time : 1m 39s\n",
      "\n"
     ]
    }
   ],
   "source": [
    "from azure.ai.resources.entities import Project, AIResource\n",
    "ai_resource = ai_client.ai_resources.begin_create(ai_resource=AIResource(name=ai_resource_name)).result()"
   ]
  },
  {
   "cell_type": "code",
   "execution_count": 8,
   "metadata": {},
   "outputs": [
    {
     "name": "stderr",
     "output_type": "stream",
     "text": [
      "Class ApiKeyConfiguration: This is an experimental class, and may change at any time. Please see https://aka.ms/azuremlexperimental for more information.\n"
     ]
    },
    {
     "name": "stderr",
     "output_type": "stream",
     "text": [
      "Class AzureAISearchWorkspaceConnection: This is an experimental class, and may change at any time. Please see https://aka.ms/azuremlexperimental for more information.\n",
      "Class WorkspaceConnection: This is an experimental class, and may change at any time. Please see https://aka.ms/azuremlexperimental for more information.\n"
     ]
    }
   ],
   "source": [
    "from azure.ai.resources.entities import (\n",
    "    AzureOpenAIConnection,\n",
    "    AzureAISearchConnection,\n",
    "    AzureAIServiceConnection,\n",
    "    AIResource,\n",
    "    Project\n",
    "\n",
    ")\n",
    "\n",
    "from azure.ai.ml.entities._credentials import ApiKeyConfiguration\n",
    "\n",
    "name = \"e2eTestSearchConn12\"\n",
    "conn_type = \"azure_open_ai\"\n",
    "cred = ApiKeyConfiguration(key=\"1234567\")\n",
    "target = \"test-target\"\n",
    "\n",
    "local_conn = AzureAISearchConnection(name=\"overwrite\", credentials=None, target=\"overwrite\")\n",
    "\n",
    "local_conn.name = name\n",
    "local_conn.credentials = cred\n",
    "local_conn.target = target\n",
    "\n",
    "first_created_conn = ai_client.connections.create_or_update(local_conn)"
   ]
  },
  {
   "cell_type": "code",
   "execution_count": 5,
   "metadata": {},
   "outputs": [
    {
     "name": "stdout",
     "output_type": "stream",
     "text": [
      "/subscriptions/f1a8fafd-a8a3-46d8-bb5e-01deb63d275d/resourceGroups/test-rg2-notebook/providers/Microsoft.MachineLearningServices/workspaces/azure-ai-resource-notebook\n"
     ]
    }
   ],
   "source": [
    "print(ai_resource._workspace_hub.id)"
   ]
  },
  {
   "cell_type": "code",
   "execution_count": 6,
   "metadata": {},
   "outputs": [
    {
     "name": "stderr",
     "output_type": "stream",
     "text": [
      "The deployment request test-project1-8525754 was accepted. ARM deployment URI for reference: \n",
      "https://portal.azure.com//#blade/HubsExtension/DeploymentDetailsBlade/overview/id/%2Fsubscriptions%2Ff1a8fafd-a8a3-46d8-bb5e-01deb63d275d%2FresourceGroups%2Ftest-rg2-notebook%2Fproviders%2FMicrosoft.Resources%2Fdeployments%2Ftest-project1-8525754\n",
      "Creating AzureML Workspace: (test-project1  ) .....  Done (32s)\n",
      "Creating Log Analytics Workspace: (testprojlogalyti18cc5d52  )  Done (16s)\n",
      "Total time : 34s\n",
      "\n"
     ]
    }
   ],
   "source": [
    "newproject = Project(name='test-project1', ai_resource=ai_resource._workspace_hub.id, )\n",
    "newproject = ai_client.projects.begin_create(project=newproject).result()"
   ]
  },
  {
   "cell_type": "code",
   "execution_count": null,
   "metadata": {},
   "outputs": [],
   "source": [
    "newproject = Project(name='test-project5', ai_resource=ai_resource._workspace_hub.id)\n",
    "newproject = ai_client.projects.begin_create(project=newproject).result()"
   ]
  },
  {
   "cell_type": "code",
   "execution_count": 43,
   "metadata": {},
   "outputs": [],
   "source": [
    "resource_group_name: str = 'test-azure-ai-rg'\n",
    "workspace: str = 'test-project2'"
   ]
  }
 ],
 "metadata": {
  "kernelspec": {
   "display_name": "aoai-landing-zone",
   "language": "python",
   "name": "python3"
  },
  "language_info": {
   "codemirror_mode": {
    "name": "ipython",
    "version": 3
   },
   "file_extension": ".py",
   "mimetype": "text/x-python",
   "name": "python",
   "nbconvert_exporter": "python",
   "pygments_lexer": "ipython3",
   "version": "3.10.13"
  }
 },
 "nbformat": 4,
 "nbformat_minor": 2
}
