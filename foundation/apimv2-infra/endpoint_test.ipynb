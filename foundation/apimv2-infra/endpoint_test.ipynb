{
 "cells": [
  {
   "cell_type": "code",
   "execution_count": 1,
   "metadata": {},
   "outputs": [
    {
     "name": "stdout",
     "output_type": "stream",
     "text": [
      "GPT-4-Turbo's joke: \n",
      "\n",
      "Why did the developer go broke after trying to monetize their API?\n",
      "\n",
      "Because they put all their resources into Azure API Management, but when they checked their balance, they realized it was a \"pay-as-you-go\" model, and all their calls were being redirected to the billing department!\n"
     ]
    }
   ],
   "source": [
    "# This test is using v1.x of the Azure OpenAI Python SDK\n",
    "# https://learn.microsoft.com/en-us/azure/ai-services/openai/how-to/migration?tabs=python-new%2Cdalle-fix#chat-completions\n",
    "from openai import AzureOpenAI\n",
    "\n",
    "# Define the AzureOpenAI client object\n",
    "client = AzureOpenAI(\n",
    "  azure_endpoint=\"https://{your_apim_resource_name}.azure-api.net/\",\n",
    "  api_key=\"{your_apim_subscription_key}\",\n",
    "  api_version=\"2023-12-01-preview\"\n",
    ")\n",
    "\n",
    "# Define the system role message to define our quick test assistant\n",
    "system_role_message = {\n",
    "  \"role\": \"system\",\n",
    "  \"content\": \"You are an AI assistant that helps people find information.\"\n",
    "}\n",
    "\n",
    "# Define the user role messages to pass to our quick assistant\n",
    "user_message_esg = {\n",
    "  \"role\": \"user\",\n",
    "  \"content\": \"Tell me a joke about Azure API Management.\"\n",
    "}\n",
    "\n",
    "# Prepare to laugh\n",
    "response_esg = client.chat.completions.create(\n",
    "    model=\"gpt-4-turbo\",\n",
    "    messages=[\n",
    "        system_role_message,\n",
    "        user_message_esg\n",
    "    ],\n",
    "    stream=False,\n",
    ")\n",
    "assistant_response_esg=response_esg.choices[0].message.content\n",
    "print(\"GPT-4-Turbo's joke: \" + \"\\n\" + \"\\n\" + assistant_response_esg)\n"
   ]
  }
 ],
 "metadata": {
  "kernelspec": {
   "display_name": "blackbauddemo",
   "language": "python",
   "name": "python3"
  },
  "language_info": {
   "codemirror_mode": {
    "name": "ipython",
    "version": 3
   },
   "file_extension": ".py",
   "mimetype": "text/x-python",
   "name": "python",
   "nbconvert_exporter": "python",
   "pygments_lexer": "ipython3",
   "version": "3.11.4"
  }
 },
 "nbformat": 4,
 "nbformat_minor": 2
}
